from google.colab import drive
import pandas as pd
from IPython.display import display
import ipywidgets as widgets

# Monta Google Drive
drive.mount('/content/drive')

# Define el archivo en Google Drive
archivo_csv = '/content/drive/My Drive/datos_usuario.csv'

# Función para recolectar datos del usuario
def recolectar_datos():
    nombre = widgets.Text(description='Nombre:')
    edad = widgets.IntText(description='Edad:')
    correo = widgets.Text(description='Correo:')
    
    display(nombre, edad, correo)
    
    # Crear un botón para enviar los datos
    boton = widgets.Button(description="Guardar Datos")
    display(boton)
    
    def on_button_clicked(b):
        datos = {
            'Nombre': nombre.value,
            'Edad': edad.value,
            'Correo': correo.value
        }
        df = pd.DataFrame([datos])
        
        # Guardar datos en CSV
        if not pd.io.common.file_exists(archivo_csv):
            df.to_csv(archivo_csv, index=False)
        else:
            df.to_csv(archivo_csv, mode='a', header=False, index=False)
        
        print("Datos guardados exitosamente.")

    boton.on_click(on_button_clicked)

# Llama a la función para recolectar y guardar datos
recolectar_datos()
